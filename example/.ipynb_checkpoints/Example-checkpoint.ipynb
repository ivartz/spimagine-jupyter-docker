{
 "cells": [
  {
   "cell_type": "code",
   "execution_count": 1,
   "metadata": {},
   "outputs": [],
   "source": [
    "import numpy as np"
   ]
  },
  {
   "cell_type": "code",
   "execution_count": 2,
   "metadata": {},
   "outputs": [
    {
     "name": "stderr",
     "output_type": "stream",
     "text": [
      "WARNING:gputools.core.ocldevice | prefered platform/device (0/0) not available (device type = 4) \n",
      "...choosing the best from the rest\n",
      "/usr/local/lib/python3.5/dist-packages/pyopencl/__init__.py:235: CompilerWarning: Non-empty compiler output encountered. Set the environment variable PYOPENCL_COMPILER_OUTPUT=1 to see more.\n",
      "  \"to see more.\", CompilerWarning)\n",
      "WARNING:gputools.core.ocldevice | prefered platform/device (0/0) not available (device type = 4) \n",
      "...choosing the best from the rest\n",
      "/usr/local/lib/python3.5/dist-packages/pyopencl/__init__.py:235: CompilerWarning: Non-empty compiler output encountered. Set the environment variable PYOPENCL_COMPILER_OUTPUT=1 to see more.\n",
      "  \"to see more.\", CompilerWarning)\n"
     ]
    }
   ],
   "source": [
    "%gui qt5\n",
    "from spimagine import volshow\n",
    "import numpy as np\n",
    "\n",
    "# create a 3d or 4d numpy array\n",
    "data = np.array([np.linspace(0,i,100**3).reshape((100,)*3) for i in np.linspace(1,11,num=100)])\n",
    "\t\n",
    "# render the data and returns the widget \n",
    "w = volshow(data)       \n",
    "\n",
    "# manipulate the render states, e.g. rotation and colormap\n",
    "w.transform.setRotation(3.14/3,1,0,0)\n",
    "w.set_colormap(\"grays\")\n",
    "\n",
    "# save the current view to a file  \n",
    "#w.saveFrame(\"scene.png\")\n",
    "\n",
    "# Create an animation using the keyfram editor, or load the existing keyframs from the jason file \"keyframes_example\"\n",
    "# Render to the folder \"images\" after creating the folder."
   ]
  },
  {
   "cell_type": "code",
   "execution_count": 60,
   "metadata": {},
   "outputs": [],
   "source": [
    "gif_command=\"ffmpeg -i images/output_%03d.png rendering.gif\"\n",
    "gif_command_slow=\"ffmpeg -i images/output_%03d.png -filter:v 'setpts=2.0*PTS' rendering_2x_slow.gif\""
   ]
  },
  {
   "cell_type": "code",
   "execution_count": 59,
   "metadata": {},
   "outputs": [
    {
     "data": {
      "text/plain": [
       "0"
      ]
     },
     "execution_count": 59,
     "metadata": {},
     "output_type": "execute_result"
    }
   ],
   "source": [
    "import subprocess\n",
    "subprocess.call(\"rm -rdf images\", shell=True)\n",
    "subprocess.call(\"mkdir images\", shell=True)\n",
    "subprocess.call(\"rm rendering.gif\", shell=True)"
   ]
  },
  {
   "cell_type": "code",
   "execution_count": 62,
   "metadata": {},
   "outputs": [
    {
     "data": {
      "text/plain": [
       "0"
      ]
     },
     "execution_count": 62,
     "metadata": {},
     "output_type": "execute_result"
    }
   ],
   "source": [
    "subprocess.call(gif_command, shell=True)"
   ]
  },
  {
   "cell_type": "code",
   "execution_count": null,
   "metadata": {},
   "outputs": [],
   "source": [
    "# Remember to chown loek:loek rendering.gif outside the docker environment."
   ]
  }
 ],
 "metadata": {
  "kernelspec": {
   "display_name": "Python 3",
   "language": "python",
   "name": "python3"
  },
  "language_info": {
   "codemirror_mode": {
    "name": "ipython",
    "version": 3
   },
   "file_extension": ".py",
   "mimetype": "text/x-python",
   "name": "python",
   "nbconvert_exporter": "python",
   "pygments_lexer": "ipython3",
   "version": "3.5.2"
  }
 },
 "nbformat": 4,
 "nbformat_minor": 2
}
